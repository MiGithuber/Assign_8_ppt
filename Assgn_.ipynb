{
 "cells": [
  {
   "cell_type": "code",
   "execution_count": 1,
   "id": "cc9f97e3-3b46-44bc-9ed7-42651a21453e",
   "metadata": {},
   "outputs": [
    {
     "name": "stdout",
     "output_type": "stream",
     "text": [
      "True\n"
     ]
    }
   ],
   "source": [
    "#8)\n",
    "def buddyStrings(s, goal):\n",
    "    if len(s) != len(goal):\n",
    "        return False\n",
    "    \n",
    "    mismatch_indices = []\n",
    "    s_chars = []\n",
    "    \n",
    "    for i in range(len(s)):\n",
    "        if s[i] != goal[i]:\n",
    "            mismatch_indices.append(i)\n",
    "            s_chars.append(s[i])\n",
    "            \n",
    "    if len(mismatch_indices) != 2:\n",
    "        return False\n",
    "    \n",
    "    i, j = mismatch_indices\n",
    "    \n",
    "    return len(set(s)) != len(s) or (s_chars[0] == goal[j] and s_chars[1] == goal[i])\n",
    "\n",
    "# Driver's code:\n",
    "s = \"ab\"\n",
    "goal = \"ba\"\n",
    "print(buddyStrings(s, goal))  # Output: True\n"
   ]
  },
  {
   "cell_type": "code",
   "execution_count": 2,
   "id": "67b0dd27-5747-4a63-9af3-829c3b5ac191",
   "metadata": {},
   "outputs": [
    {
     "name": "stdout",
     "output_type": "stream",
     "text": [
      "2\n"
     ]
    }
   ],
   "source": [
    "#3)\n",
    "def minStepsToSame(word1, word2):\n",
    "    m = len(word1)\n",
    "    n = len(word2)\n",
    "    \n",
    "    dp = [[0] * (n + 1) for _ in range(m + 1)]\n",
    "    \n",
    "    for i in range(m + 1):\n",
    "        for j in range(n + 1):\n",
    "            if i == 0 or j == 0:\n",
    "                dp[i][j] = 0\n",
    "            elif word1[i-1] == word2[j-1]:\n",
    "                dp[i][j] = dp[i-1][j-1] + 1\n",
    "            else:\n",
    "                dp[i][j] = max(dp[i-1][j], dp[i][j-1])\n",
    "                \n",
    "    return m + n - 2 * dp[m][n]\n",
    "\n",
    "# Driver's code:\n",
    "word1 = \"sea\"\n",
    "word2 = \"eat\"\n",
    "print(minStepsToSame(word1, word2))  # Output: 2\n"
   ]
  },
  {
   "cell_type": "code",
   "execution_count": 3,
   "id": "9501a285-186c-4384-b006-03dfc7df6055",
   "metadata": {},
   "outputs": [
    {
     "name": "stdout",
     "output_type": "stream",
     "text": [
      "231\n"
     ]
    }
   ],
   "source": [
    "#1)\n",
    "def lowestASCIIDeletedSum(s1, s2):\n",
    "    m = len(s1)\n",
    "    n = len(s2)\n",
    "    \n",
    "    dp = [[0] * (n + 1) for _ in range(m + 1)]\n",
    "    \n",
    "    for i in range(m + 1):\n",
    "        for j in range(n + 1):\n",
    "            if i == 0 or j == 0:\n",
    "                dp[i][j] = sum(ord(c) for c in s1[:i]) + sum(ord(c) for c in s2[:j])\n",
    "            elif s1[i-1] == s2[j-1]:\n",
    "                dp[i][j] = dp[i-1][j-1]\n",
    "            else:\n",
    "                dp[i][j] = min(dp[i-1][j] + ord(s1[i-1]), dp[i][j-1] + ord(s2[j-1]))\n",
    "                \n",
    "    return dp[m][n]\n",
    "\n",
    "# Example usage:\n",
    "s1 = \"sea\"\n",
    "s2 = \"eat\"\n",
    "print(lowestASCIIDeletedSum(s1, s2))  # Output: 231\n"
   ]
  },
  {
   "cell_type": "code",
   "execution_count": null,
   "id": "88c7c820-f648-464e-b057-8941d9822c3a",
   "metadata": {},
   "outputs": [],
   "source": []
  }
 ],
 "metadata": {
  "kernelspec": {
   "display_name": "Python 3 (ipykernel)",
   "language": "python",
   "name": "python3"
  },
  "language_info": {
   "codemirror_mode": {
    "name": "ipython",
    "version": 3
   },
   "file_extension": ".py",
   "mimetype": "text/x-python",
   "name": "python",
   "nbconvert_exporter": "python",
   "pygments_lexer": "ipython3",
   "version": "3.10.8"
  }
 },
 "nbformat": 4,
 "nbformat_minor": 5
}
